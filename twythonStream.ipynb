{
  "cells": [
    {
      "cell_type": "markdown",
      "metadata": {
        "id": "view-in-github",
        "colab_type": "text"
      },
      "source": [
        "<a href=\"https://colab.research.google.com/github/ianomunga/backTrack/blob/main/twythonStream.ipynb\" target=\"_parent\"><img src=\"https://colab.research.google.com/assets/colab-badge.svg\" alt=\"Open In Colab\"/></a>"
      ]
    },
    {
      "cell_type": "code",
      "execution_count": null,
      "metadata": {
        "id": "RFIN49_wsR6P"
      },
      "outputs": [],
      "source": [
        "pip install twython"
      ]
    },
    {
      "cell_type": "code",
      "execution_count": null,
      "metadata": {
        "id": "jgW4ZkJLCJRg"
      },
      "outputs": [],
      "source": [
        "from twython import Twython\n",
        "import pandas as pd"
      ]
    },
    {
      "cell_type": "code",
      "execution_count": null,
      "metadata": {
        "id": "2XHlpOD7COED"
      },
      "outputs": [],
      "source": [
        "#Sensitive Twitter Data Redacted\n",
        "\n",
        "twitter = Twython(APP_KEY, APP_SECRET, OAUTH_TOKEN, OAUTH_TOKEN_SECRET)\n",
        "twitter.search(q='covid', result_type='popular')\n",
        "#twitter.update_status(status=\"Hello from Python! :D\")"
      ]
    },
    {
      "cell_type": "code",
      "source": [
        "from twython import TwythonStreamer\n",
        "class MyStreamer(TwythonStreamer):\n",
        "    def on_success(self, data):\n",
        "        if 'text' in data:\n",
        "            print(data['text'])\n",
        "\n",
        "        if data.get('lang') == 'en':\n",
        "            output = []\n",
        "            output.append(data['text'])\n",
        "            df = pd.DataFrame(output)\n",
        "            df.to_csv('/content/drive/MyDrive/Colab Notebooks/nCOVdata.csv', mode='a', header=False)\n",
        "\n",
        "    def on_error(self, status_code, data):\n",
        "        print(status_code)\n"
      ],
      "metadata": {
        "id": "Pf0Tp6mQfUEP"
      },
      "execution_count": null,
      "outputs": []
    },
    {
      "cell_type": "code",
      "source": [
        "\"\"\"\n",
        "-----For when I'll need to pop some on the fly-----\n",
        "results = twitter.cursor(twitter.search, q='bush')\n",
        "for result in results: \n",
        "  print(result)\n",
        "\"\"\""
      ],
      "metadata": {
        "id": "42ao62xahp2o"
      },
      "execution_count": null,
      "outputs": []
    },
    {
      "cell_type": "code",
      "source": [
        "stream = MyStreamer(APP_KEY, APP_SECRET,\n",
        "                    OAUTH_TOKEN, OAUTH_TOKEN_SECRET)\n",
        "stream.statuses.filter(track='covid')"
      ],
      "metadata": {
        "id": "a2KxwjEpfjWn"
      },
      "execution_count": null,
      "outputs": []
    }
  ],
  "metadata": {
    "colab": {
      "collapsed_sections": [],
      "name": "twythonStream.ipynb",
      "provenance": [],
      "mount_file_id": "1BaK4349ectnxtvj1zWxWn9oCbz8Q7Lyg",
      "authorship_tag": "ABX9TyN6ywFF8LwI4fRQ7xOTkCRB",
      "include_colab_link": true
    },
    "kernelspec": {
      "display_name": "Python 3",
      "name": "python3"
    },
    "language_info": {
      "name": "python"
    }
  },
  "nbformat": 4,
  "nbformat_minor": 0
}