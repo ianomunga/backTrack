{
  "cells": [
    {
      "cell_type": "markdown",
      "metadata": {
        "colab_type": "text",
        "id": "view-in-github"
      },
      "source": [
        "<a href=\"https://colab.research.google.com/github/ianomunga/backTrack/blob/main/twythonStream.ipynb\" target=\"_parent\"><img src=\"https://colab.research.google.com/assets/colab-badge.svg\" alt=\"Open In Colab\"/></a>"
      ]
    },
    {
      "cell_type": "code",
      "execution_count": 1,
      "metadata": {
        "id": "jgW4ZkJLCJRg"
      },
      "outputs": [],
      "source": [
        "from twython import Twython, TwythonError, TwythonStreamer\n",
        "import pandas as pd\n",
        "from datetime import datetime\n",
        "import csv\n",
        "import os"
      ]
    },
    {
      "cell_type": "code",
      "execution_count": null,
      "metadata": {
        "id": "2XHlpOD7COED"
      },
      "outputs": [],
      "source": [
        "#My sensitive Twitter API Data is redacted\n",
        "\n",
        "twitter = Twython(APP_KEY, APP_SECRET, OAUTH_TOKEN, OAUTH_TOKEN_SECRET)\n",
        "twitter.search(q='covid', result_type='popular')\n",
        "#to test run the OAuth and confirm whether authentication was successful"
      ]
    },
    {
      "cell_type": "code",
      "execution_count": null,
      "metadata": {
        "id": "Pf0Tp6mQfUEP"
      },
      "outputs": [],
      "source": [
        "from twython import TwythonStreamer\n",
        "def process_tweet(tweet): \n",
        "    \n",
        "    filtered_data = {}\n",
        "    dict_test = []\n",
        "    \n",
        "    initial_format = '%a %b %d %H:%M:%S %z %Y'\n",
        "    date_formats = '%d-%m-%Y'\n",
        "    time_formats = '%H:%M:%S'\n",
        "    \n",
        "    filtered_data['id_post'] = tweet['id']\n",
        "    filtered_data['hashtags'] = [hashtag['text'] for hashtag in tweet['entities']['hashtags']] \n",
        "    filtered_data['date'] = datetime.strptime(tweet['created_at'], initial_format).strftime(date_formats)\n",
        "    filtered_data['time'] = datetime.strptime(tweet['created_at'], initial_format).strftime(time_formats)\n",
        "    filtered_data['geo'] = tweet['geo']\n",
        "    filtered_data['text'] = tweet['text'] \n",
        "    filtered_data['user'] = tweet['user']['screen_name'] \n",
        "    filtered_data['user_loc'] = tweet['user']['location'] \n",
        "    filtered_data['user_id'] = tweet['in_reply_to_user_id']\n",
        "    filtered_data['source_device'] = tweet['source']\n",
        "                                   \n",
        "    dict_test.append(filtered_data)\n",
        "    \n",
        "    print(dict_test)\n",
        "\n",
        "    return dict_test\n",
        "\n",
        "class MyStreamer(TwythonStreamer):\n",
        "    \n",
        "    def on_success(self, data):\n",
        "        if data['lang'] == 'en':\n",
        "            tweet_data = process_tweet(data)\n",
        "            self.save_to_csv(tweet_data) \n",
        "            \n",
        "    def on_error(self, status_code, data):\n",
        "        print(status_code)\n",
        "        \n",
        "    def save_to_csv(self, tweet, encoding = 'utf-8'):\n",
        "        file_name = 'Twitter_{date}.csv'.format(date = str(datetime.now().strftime('%d-%m-%Y')))\n",
        "        try:\n",
        "            with open(file_name, 'a', newline='', encoding=encoding) as file:\n",
        "                size_path_file =  os.path.getsize(file_name)\n",
        "                print(size_path_file)\n",
        "                if size_path_file == 0:\n",
        "                    writer = csv.DictWriter(file, fieldnames=tweet[0].keys())\n",
        "                    writer.writeheader()\n",
        "                    for data in tweet:\n",
        "                        writer.writerow(data)\n",
        "                else:\n",
        "                    writer = csv.DictWriter(file, fieldnames=tweet[0].keys())\n",
        "                    for data in tweet:\n",
        "                        writer.writerow(data)\n",
        "                        \n",
        "        except IOError:\n",
        "            print(\"I/O error\")\n"
      ]
    },
    {
      "cell_type": "code",
      "execution_count": null,
      "metadata": {
        "id": "42ao62xahp2o"
      },
      "outputs": [],
      "source": [
        "\"\"\"\n",
        "-----For when I'll need to pop some on the fly-----\n",
        "results = twitter.cursor(twitter.search, q='bush')\n",
        "for result in results: \n",
        "  print(result)\n",
        "\"\"\""
      ]
    },
    {
      "cell_type": "code",
      "execution_count": null,
      "metadata": {
        "id": "a2KxwjEpfjWn"
      },
      "outputs": [],
      "source": [
        "if __name__ == '__main__':\n",
        "    stream = MyStreamer(APP_KEY, APP_SECRET, OAUTH_TOKEN, OAUTH_TOKEN_SECRET)\n",
        "    stream.statuses.filter(track=['Covid', 'Covid-19'])"
      ]
    }
  ],
  "metadata": {
    "colab": {
      "authorship_tag": "ABX9TyN6ywFF8LwI4fRQ7xOTkCRB",
      "collapsed_sections": [],
      "include_colab_link": true,
      "mount_file_id": "1BaK4349ectnxtvj1zWxWn9oCbz8Q7Lyg",
      "name": "twythonStream.ipynb",
      "provenance": []
    },
    "kernelspec": {
      "display_name": "Python 3",
      "name": "python3"
    },
    "language_info": {
      "codemirror_mode": {
        "name": "ipython",
        "version": 3
      },
      "file_extension": ".py",
      "mimetype": "text/x-python",
      "name": "python",
      "nbconvert_exporter": "python",
      "pygments_lexer": "ipython3",
      "version": "3.9.9"
    }
  },
  "nbformat": 4,
  "nbformat_minor": 0
}
